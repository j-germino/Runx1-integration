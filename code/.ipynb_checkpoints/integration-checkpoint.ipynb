{
 "cells": [
  {
   "cell_type": "markdown",
   "id": "86e9219f-4e47-4a82-8f18-73dd321351bd",
   "metadata": {},
   "source": [
    "# Setup"
   ]
  },
  {
   "cell_type": "code",
   "execution_count": 1,
   "id": "ea49e73f-d1f9-4280-a40b-6d9563e47f91",
   "metadata": {},
   "outputs": [],
   "source": [
    "import warnings\n",
    "warnings.filterwarnings(\"ignore\", category=UserWarning)"
   ]
  },
  {
   "cell_type": "code",
   "execution_count": 2,
   "id": "c116ec96-d436-4d4a-81d6-392e19259626",
   "metadata": {},
   "outputs": [],
   "source": [
    "import scvi\n",
    "import scrnatools as rna\n",
    "import seaborn as sns\n",
    "import pandas as pd\n",
    "import matplotlib.pyplot as plt\n",
    "import numpy as np\n",
    "import celltypist\n",
    "import os\n",
    "import shutil\n",
    "import anndata as ad\n",
    "import scanpy as sc"
   ]
  },
  {
   "cell_type": "code",
   "execution_count": 3,
   "id": "0710b520-4d86-487e-801a-490e7db0f70b",
   "metadata": {},
   "outputs": [
    {
     "name": "stderr",
     "output_type": "stream",
     "text": [
      "Global seed set to 0\n"
     ]
    }
   ],
   "source": [
    "# Setup seeds\n",
    "scvi.settings.seed = 0"
   ]
  },
  {
   "cell_type": "code",
   "execution_count": 4,
   "id": "2f1ca5d9-21cc-4983-854c-72ac721e67b7",
   "metadata": {},
   "outputs": [],
   "source": [
    "# Setup figure params\n",
    "plt.rcParams[\"pdf.use14corefonts\"] = True\n",
    "plt.rcParams['font.family'] = 'sans-serif'\n",
    "plt.rcParams['font.sans-serif'] = \"Arial\"\n",
    "sc.set_figure_params(dpi=80, dpi_save=300, facecolor=\"white\", frameon=False)\n",
    "sns.set_context(\"paper\")\n",
    "plt.rcParams[\"axes.grid\"] = False"
   ]
  },
  {
   "cell_type": "code",
   "execution_count": 5,
   "id": "2e6eade6-0a0b-41d3-9570-90cb03bfb945",
   "metadata": {},
   "outputs": [],
   "source": [
    "warnings.resetwarnings()"
   ]
  },
  {
   "cell_type": "markdown",
   "id": "d5ccb3b4-43fa-42e9-915e-2d10250374b3",
   "metadata": {},
   "source": [
    "## Set data paths"
   ]
  },
  {
   "cell_type": "markdown",
   "id": "4f84360d-0cbe-4cd5-a4dd-7f361d44c1f2",
   "metadata": {},
   "source": [
    "### demeter"
   ]
  },
  {
   "cell_type": "code",
   "execution_count": 6,
   "id": "212286bc-d28f-4ac5-afde-707ee1ba4e0f",
   "metadata": {},
   "outputs": [],
   "source": [
    "rawDataPath = \"/mnt/iacchus/joe/raw_data/\"\n",
    "processedDataPath = \"/mnt/iacchus/joe/processed_data/\""
   ]
  },
  {
   "cell_type": "markdown",
   "id": "aa76eff5-702b-4d0e-9e09-8d3623b62ecd",
   "metadata": {},
   "source": [
    "# Import data"
   ]
  },
  {
   "cell_type": "markdown",
   "id": "2cfa98a4-6e22-4094-9b65-82cd95a2d332",
   "metadata": {},
   "source": [
    "## Aire KO/WT"
   ]
  },
  {
   "cell_type": "markdown",
   "id": "8132f778-7e27-4977-bcb3-1936c4ee86fe",
   "metadata": {},
   "source": [
    "### Sample 1"
   ]
  },
  {
   "cell_type": "markdown",
   "id": "b1e97921-5fd9-4c5c-bfe1-72fdf49a8b93",
   "metadata": {},
   "source": [
    "#### WT"
   ]
  },
  {
   "cell_type": "code",
   "execution_count": 7,
   "id": "70823d07-797f-4ca9-bacd-32d4570bf9e7",
   "metadata": {
    "tags": []
   },
   "outputs": [],
   "source": [
    "Aire_WT_1 = sc.read_h5ad(\n",
    "    f\"{rawDataPath}/Thymus/Yi/kallisto/Aire_WT-1/counts_unfiltered/adata.h5ad\",\n",
    ")\n",
    "Aire_WT_1.var[\"ensembl_gene\"] = [i.split(\".\")[0] for i in Aire_WT_1.var_names]"
   ]
  },
  {
   "cell_type": "markdown",
   "id": "40d65376-ac1e-48bf-bd77-b97be3fe9cff",
   "metadata": {},
   "source": [
    "#### Aire KO"
   ]
  },
  {
   "cell_type": "code",
   "execution_count": 8,
   "id": "41dad1a9-104c-40f3-ab18-6b2e8126ae09",
   "metadata": {
    "tags": []
   },
   "outputs": [],
   "source": [
    "Aire_KO_1 = sc.read_h5ad(\n",
    "    f\"{rawDataPath}/Thymus/Yi/kallisto/Aire_KO-1/counts_unfiltered/adata.h5ad\",\n",
    ")\n",
    "Aire_KO_1.var[\"ensembl_gene\"] = [i.split(\".\")[0] for i in Aire_KO_1.var_names]"
   ]
  },
  {
   "cell_type": "markdown",
   "id": "64b38386-5ee6-4eb3-9cc3-12b20c9e6e1b",
   "metadata": {},
   "source": [
    "### Sample 2"
   ]
  },
  {
   "cell_type": "markdown",
   "id": "41ff71c3-bc42-4a50-bb9c-1a5d993cc03a",
   "metadata": {},
   "source": [
    "#### WT"
   ]
  },
  {
   "cell_type": "code",
   "execution_count": 9,
   "id": "c0898966-2338-4cea-a144-bc3dfd815a4a",
   "metadata": {},
   "outputs": [],
   "source": [
    "Aire_WT_2 = sc.read_h5ad(\n",
    "    f\"{rawDataPath}/Thymus/Aire_KO/kallisto/Aire_WT-2/counts_unfiltered/adata.h5ad\",\n",
    ")\n",
    "Aire_WT_2.var[\"ensembl_gene\"] = [i.split(\".\")[0] for i in Aire_WT_2.var_names]"
   ]
  },
  {
   "cell_type": "markdown",
   "id": "7379cb97-1f7f-4013-a8b2-0c713f916270",
   "metadata": {},
   "source": [
    "#### Aire KO"
   ]
  },
  {
   "cell_type": "code",
   "execution_count": 10,
   "id": "e65d2d8c-171b-4882-b40d-edbdcf7d170a",
   "metadata": {
    "tags": []
   },
   "outputs": [],
   "source": [
    "Aire_KO_2 = sc.read_h5ad(\n",
    "    f\"{rawDataPath}/Thymus/Aire_KO/kallisto/Aire_KO-2/counts_unfiltered/adata.h5ad\",\n",
    ")\n",
    "Aire_KO_2.var[\"ensembl_gene\"] = [i.split(\".\")[0] for i in Aire_KO_2.var_names]"
   ]
  },
  {
   "cell_type": "code",
   "execution_count": 11,
   "id": "4642fcd8-b840-4aae-871b-e2b73d8bfe32",
   "metadata": {},
   "outputs": [],
   "source": [
    "def clean_genes(adata, gene_info):\n",
    "    adata = adata[:, adata.var.ensembl_gene.isin(gene_info.index)].copy()\n",
    "    adata.var = adata.var.join(gene_info, on=\"ensembl_gene\")\n",
    "    # Drop transcripts with no gene name\n",
    "    adata = adata[:, ~adata.var.external_gene_name.isna()].copy()\n",
    "    adata = adata[:, adata.var.gene_biotype.isin([\"protein_coding\"])].copy()\n",
    "    adata.var.index = adata.var.external_gene_name\n",
    "    del adata.var[\"gene_name\"]\n",
    "    del adata.var[\"ensembl_gene\"]\n",
    "    adata.var[\"mt\"] = adata.var.external_gene_name.str.startswith(\"mt-\")\n",
    "    sc.pp.filter_cells(adata, min_genes=100)\n",
    "    sc.pp.filter_genes(adata, min_cells=20)\n",
    "    sc.pp.calculate_qc_metrics(adata, qc_vars=[\"mt\"], inplace=True, percent_top=None, log1p=False,)\n",
    "    adata = rna.qc.filter_cells(\n",
    "        adata,\n",
    "        counts_thresholds=[2000, 70000], \n",
    "        genes_thresholds=[2000, 8500],\n",
    "        mt_threshold=10,\n",
    "    )\n",
    "    \n",
    "    return adata\n",
    "    \n",
    "gene_info = sc.queries.biomart_annotations(\"mmusculus\", [\"ensembl_gene_id\", \"external_gene_name\", \"gene_biotype\"])\n",
    "gene_info.index = gene_info.ensembl_gene_id\n",
    "gene_info = gene_info[gene_info.index.isin(Aire_WT_1.var.ensembl_gene)]\n",
    "gene_info = gene_info.drop_duplicates(subset=\"external_gene_name\")\n",
    "\n",
    "Aire_WT_1 = clean_genes(Aire_WT_1, gene_info)\n",
    "Aire_WT_2 = clean_genes(Aire_WT_2, gene_info)\n",
    "Aire_KO_1 = clean_genes(Aire_KO_1, gene_info)\n",
    "Aire_KO_2 = clean_genes(Aire_KO_2, gene_info)"
   ]
  },
  {
   "cell_type": "markdown",
   "id": "9ac17d94-4350-4b4b-8597-fe0f38d4ca19",
   "metadata": {},
   "source": [
    "## Runx1 KO/WT"
   ]
  },
  {
   "cell_type": "code",
   "execution_count": 12,
   "id": "86aad6e3-855e-4f47-b8cd-d5521adff3a4",
   "metadata": {},
   "outputs": [],
   "source": [
    "Runx_KO = sc.read_10x_mtx(\n",
    "    f\"{rawDataPath}/Thymus/Runx1_KO/Runx1/filtered_feature_bc_matrix\",\n",
    ")"
   ]
  },
  {
   "cell_type": "code",
   "execution_count": 13,
   "id": "f3524cbe-559f-4be1-a1b9-2957ea976026",
   "metadata": {},
   "outputs": [],
   "source": [
    "Runx_WT = sc.read_10x_mtx(\n",
    "    f\"{rawDataPath}/Thymus/Runx1_KO/WT/filtered_feature_bc_matrix\"\n",
    ")"
   ]
  },
  {
   "cell_type": "code",
   "execution_count": 14,
   "id": "85de7e99-913f-488a-bcde-bd9ea87b0c00",
   "metadata": {},
   "outputs": [],
   "source": [
    "cell_labels = pd.read_csv(f\"{rawDataPath}/Thymus/Runx1_KO/RenamedIdentsRunx1.csv\", index_col=0)\n",
    "cell_labels[\"barcode\"] = [i.split(\"_\")[1] for i in cell_labels.index]\n",
    "cell_labels[\"genotype\"] = [i.split(\"_\")[0] for i in cell_labels.index]\n",
    "cell_labels.genotype = cell_labels.genotype.replace({\"1\": \"Runx1_WT-1\", \"2\": \"Runx1_KO-1\"})\n",
    "cell_labels.index = cell_labels.barcode + \"-\" + cell_labels.genotype\n",
    "Runx_KO = Runx_KO[Runx_KO.obs_names.isin(cell_labels[cell_labels.genotype == \"Runx1_KO-1\"].barcode)]\n",
    "Runx_WT = Runx_WT[Runx_WT.obs_names.isin(cell_labels[cell_labels.genotype == \"Runx1_WT-1\"].barcode)]"
   ]
  },
  {
   "cell_type": "markdown",
   "id": "5895e68b-715a-46de-a771-d168fbed0677",
   "metadata": {},
   "source": [
    "## Combine"
   ]
  },
  {
   "cell_type": "code",
   "execution_count": 15,
   "id": "a134bf8a-0028-4b96-92f2-927989261372",
   "metadata": {
    "tags": []
   },
   "outputs": [],
   "source": [
    "adata = ad.concat(\n",
    "    [Aire_WT_1, Aire_WT_2, Aire_KO_1, Aire_KO_2, Runx_KO, Runx_WT],\n",
    "    label=\"batch\",\n",
    "    index_unique=\"-\",\n",
    "    keys=[\"Aire_WT-1\", \"Aire_WT-2\", \"Aire_KO-1\", \"Aire_KO-2\", \"Runx1_KO-1\", \"Runx1_WT-1\"],   \n",
    ")\n",
    "adata.layers[\"raw_counts\"] = adata.X.copy()\n",
    "adata.obs[\"genotype\"] = [i.split(\"-\")[0] for i in adata.obs.batch]\n",
    "adata.obs[\"sample\"] = [i.split(\"-\")[1] for i in adata.obs.batch]"
   ]
  },
  {
   "cell_type": "code",
   "execution_count": 16,
   "id": "1b6b929d-86f5-4b62-8c09-f25f1e15eb7e",
   "metadata": {},
   "outputs": [],
   "source": [
    "# Add original cell type labels\n",
    "adata.obs[\"cell_type\"] = cell_labels.x"
   ]
  },
  {
   "cell_type": "code",
   "execution_count": 17,
   "id": "1a961bc3-98bf-4e19-b496-1a9384f1e5e8",
   "metadata": {},
   "outputs": [],
   "source": [
    "adata.var[\"mt\"] = adata.var.index.str.startswith(\"mt-\")\n",
    "sc.pp.calculate_qc_metrics(adata, qc_vars=[\"mt\"], inplace=True, percent_top=None, log1p=False,)"
   ]
  },
  {
   "cell_type": "code",
   "execution_count": 18,
   "id": "a7ca77a5-d81d-4268-9eb0-1e8e6d8e2f79",
   "metadata": {},
   "outputs": [
    {
     "data": {
      "text/plain": [
       "Aire_KO-2     7500\n",
       "Aire_KO-1     6600\n",
       "Aire_WT-2     6449\n",
       "Aire_WT-1     5996\n",
       "Runx1_WT-1    3509\n",
       "Runx1_KO-1    3220\n",
       "Name: batch, dtype: int64"
      ]
     },
     "execution_count": 18,
     "metadata": {},
     "output_type": "execute_result"
    }
   ],
   "source": [
    "adata.obs.batch.value_counts()"
   ]
  },
  {
   "cell_type": "markdown",
   "id": "654b91e2-03aa-40f7-802f-7f8f6bfa92e0",
   "metadata": {},
   "source": [
    "# Scanpy processing"
   ]
  },
  {
   "cell_type": "code",
   "execution_count": 19,
   "id": "7cd22cec-cfb6-45dc-aef3-70c96c17b6d3",
   "metadata": {},
   "outputs": [],
   "source": [
    "adata.raw = adata\n",
    "sc.pp.normalize_total(adata, target_sum=1e4)\n",
    "sc.pp.log1p(adata)\n",
    "adata.layers[\"log1p\"] = adata.X.copy()"
   ]
  },
  {
   "cell_type": "markdown",
   "id": "7664ed72-58a9-4e73-ba05-136a36d5da33",
   "metadata": {},
   "source": [
    "# scVI integration"
   ]
  },
  {
   "cell_type": "code",
   "execution_count": 20,
   "id": "eb4b2aac-cce1-44c2-86d9-df291cd40c2e",
   "metadata": {},
   "outputs": [
    {
     "name": "stderr",
     "output_type": "stream",
     "text": [
      "Unable to initialize backend 'cuda': module 'jaxlib.xla_extension' has no attribute 'GpuAllocatorConfig'\n",
      "Unable to initialize backend 'rocm': module 'jaxlib.xla_extension' has no attribute 'GpuAllocatorConfig'\n",
      "Unable to initialize backend 'tpu': INTERNAL: Failed to open libtpu.so: libtpu.so: cannot open shared object file: No such file or directory\n",
      "An NVIDIA GPU may be present on this machine, but a CUDA-enabled jaxlib is not installed. Falling back to cpu.\n"
     ]
    }
   ],
   "source": [
    "# Setup scVI model using raw counts and batch info\n",
    "scvi.model.SCVI.setup_anndata(\n",
    "    adata,\n",
    "    layer=\"raw_counts\",\n",
    "    batch_key=\"batch\",\n",
    ")\n",
    "model = scvi.model.SCVI(adata)"
   ]
  },
  {
   "cell_type": "code",
   "execution_count": 21,
   "id": "153a0fa8-e763-4edd-a497-19deecdb4348",
   "metadata": {},
   "outputs": [
    {
     "name": "stderr",
     "output_type": "stream",
     "text": [
      "GPU available: True (cuda), used: True\n",
      "TPU available: False, using: 0 TPU cores\n",
      "IPU available: False, using: 0 IPUs\n",
      "HPU available: False, using: 0 HPUs\n",
      "You are using a CUDA device ('NVIDIA GeForce RTX 3090') that has Tensor Cores. To properly utilize them, you should set `torch.set_float32_matmul_precision('medium' | 'high')` which will trade-off precision for performance. For more details, read https://pytorch.org/docs/stable/generated/torch.set_float32_matmul_precision.html#torch.set_float32_matmul_precision\n",
      "LOCAL_RANK: 0 - CUDA_VISIBLE_DEVICES: [0,1]\n"
     ]
    },
    {
     "name": "stdout",
     "output_type": "stream",
     "text": [
      "Epoch 41/1000:   4%|▍         | 40/1000 [01:22<32:59,  2.06s/it, v_num=1, train_loss_step=1.02e+4, train_loss_epoch=9.69e+3]"
     ]
    },
    {
     "name": "stderr",
     "output_type": "stream",
     "text": [
      "/home/joe/anaconda3/envs/fezf2-thymus-env/lib/python3.9/site-packages/lightning/pytorch/trainer/call.py:52: UserWarning: Detected KeyboardInterrupt, attempting graceful shutdown...\n",
      "  rank_zero_warn(\"Detected KeyboardInterrupt, attempting graceful shutdown...\")\n"
     ]
    }
   ],
   "source": [
    "# Train scVI model\n",
    "model.train(\n",
    "    early_stopping=True,\n",
    "    max_epochs=1000,\n",
    "    accelerator=\"gpu\",\n",
    "    devices=\"auto\"\n",
    ")"
   ]
  },
  {
   "cell_type": "code",
   "execution_count": 22,
   "id": "1bd63b91-ebb0-4ec2-8d1b-d6243e7b7a3d",
   "metadata": {},
   "outputs": [
    {
     "data": {
      "image/png": "[encoded data removed]",
      "text/plain": [
       "<Figure size 240x240 with 1 Axes>"
      ]
     },
     "metadata": {
      "image/png": {
       "height": 231,
       "width": 254
      }
     },
     "output_type": "display_data"
    }
   ],
   "source": [
    "# Plot model ELBO\n",
    "plt.figure(figsize=(3,3))\n",
    "ax = sns.lineplot(model.history['elbo_validation'])\n",
    "plt.ylabel(\"elbo_validation\")\n",
    "ax.get_legend().remove()\n",
    "plt.show()"
   ]
  },
  {
   "cell_type": "code",
   "execution_count": 23,
   "id": "468b19f0-d382-43b1-bc40-eb0210acfbca",
   "metadata": {},
   "outputs": [
    {
     "ename": "KeyboardInterrupt",
     "evalue": "",
     "output_type": "error",
     "traceback": [
      "\u001b[0;31m---------------------------------------------------------------------------\u001b[0m",
      "\u001b[0;31mKeyboardInterrupt\u001b[0m                         Traceback (most recent call last)",
      "Cell \u001b[0;32mIn[23], line 2\u001b[0m\n\u001b[1;32m      1\u001b[0m \u001b[38;5;66;03m# get scVI latent space and normalized expression\u001b[39;00m\n\u001b[0;32m----> 2\u001b[0m adata\u001b[38;5;241m.\u001b[39mobsm[\u001b[38;5;124m\"\u001b[39m\u001b[38;5;124mX_scVI\u001b[39m\u001b[38;5;124m\"\u001b[39m] \u001b[38;5;241m=\u001b[39m \u001b[43mmodel\u001b[49m\u001b[38;5;241;43m.\u001b[39;49m\u001b[43mget_latent_representation\u001b[49m\u001b[43m(\u001b[49m\u001b[43m)\u001b[49m\n\u001b[1;32m      3\u001b[0m adata\u001b[38;5;241m.\u001b[39mlayers[\u001b[38;5;124m\"\u001b[39m\u001b[38;5;124mscVI_normalized\u001b[39m\u001b[38;5;124m\"\u001b[39m] \u001b[38;5;241m=\u001b[39m model\u001b[38;5;241m.\u001b[39mget_normalized_expression(library_size\u001b[38;5;241m=\u001b[39m\u001b[38;5;241m1e4\u001b[39m)\n",
      "File \u001b[0;32m~/anaconda3/envs/fezf2-thymus-env/lib/python3.9/site-packages/torch/utils/_contextlib.py:115\u001b[0m, in \u001b[0;36mcontext_decorator.<locals>.decorate_context\u001b[0;34m(*args, **kwargs)\u001b[0m\n\u001b[1;32m    112\u001b[0m \u001b[38;5;129m@functools\u001b[39m\u001b[38;5;241m.\u001b[39mwraps(func)\n\u001b[1;32m    113\u001b[0m \u001b[38;5;28;01mdef\u001b[39;00m \u001b[38;5;21mdecorate_context\u001b[39m(\u001b[38;5;241m*\u001b[39margs, \u001b[38;5;241m*\u001b[39m\u001b[38;5;241m*\u001b[39mkwargs):\n\u001b[1;32m    114\u001b[0m     \u001b[38;5;28;01mwith\u001b[39;00m ctx_factory():\n\u001b[0;32m--> 115\u001b[0m         \u001b[38;5;28;01mreturn\u001b[39;00m \u001b[43mfunc\u001b[49m\u001b[43m(\u001b[49m\u001b[38;5;241;43m*\u001b[39;49m\u001b[43margs\u001b[49m\u001b[43m,\u001b[49m\u001b[43m \u001b[49m\u001b[38;5;241;43m*\u001b[39;49m\u001b[38;5;241;43m*\u001b[39;49m\u001b[43mkwargs\u001b[49m\u001b[43m)\u001b[49m\n",
      "File \u001b[0;32m~/anaconda3/envs/fezf2-thymus-env/lib/python3.9/site-packages/scvi/model/base/_vaemixin.py:188\u001b[0m, in \u001b[0;36mVAEMixin.get_latent_representation\u001b[0;34m(self, adata, indices, give_mean, mc_samples, batch_size, return_dist)\u001b[0m\n\u001b[1;32m    186\u001b[0m \u001b[38;5;28;01mfor\u001b[39;00m tensors \u001b[38;5;129;01min\u001b[39;00m scdl:\n\u001b[1;32m    187\u001b[0m     inference_inputs \u001b[38;5;241m=\u001b[39m \u001b[38;5;28mself\u001b[39m\u001b[38;5;241m.\u001b[39mmodule\u001b[38;5;241m.\u001b[39m_get_inference_input(tensors)\n\u001b[0;32m--> 188\u001b[0m     outputs \u001b[38;5;241m=\u001b[39m \u001b[38;5;28;43mself\u001b[39;49m\u001b[38;5;241;43m.\u001b[39;49m\u001b[43mmodule\u001b[49m\u001b[38;5;241;43m.\u001b[39;49m\u001b[43minference\u001b[49m\u001b[43m(\u001b[49m\u001b[38;5;241;43m*\u001b[39;49m\u001b[38;5;241;43m*\u001b[39;49m\u001b[43minference_inputs\u001b[49m\u001b[43m)\u001b[49m\n\u001b[1;32m    189\u001b[0m     \u001b[38;5;28;01mif\u001b[39;00m \u001b[38;5;124m\"\u001b[39m\u001b[38;5;124mqz\u001b[39m\u001b[38;5;124m\"\u001b[39m \u001b[38;5;129;01min\u001b[39;00m outputs:\n\u001b[1;32m    190\u001b[0m         qz \u001b[38;5;241m=\u001b[39m outputs[\u001b[38;5;124m\"\u001b[39m\u001b[38;5;124mqz\u001b[39m\u001b[38;5;124m\"\u001b[39m]\n",
      "File \u001b[0;32m~/anaconda3/envs/fezf2-thymus-env/lib/python3.9/site-packages/scvi/module/base/_decorators.py:41\u001b[0m, in \u001b[0;36mauto_move_data.<locals>.auto_transfer_args\u001b[0;34m(self, *args, **kwargs)\u001b[0m\n\u001b[1;32m     39\u001b[0m args \u001b[38;5;241m=\u001b[39m _move_data_to_device(args, device)\n\u001b[1;32m     40\u001b[0m kwargs \u001b[38;5;241m=\u001b[39m _move_data_to_device(kwargs, device)\n\u001b[0;32m---> 41\u001b[0m \u001b[38;5;28;01mreturn\u001b[39;00m \u001b[43mfn\u001b[49m\u001b[43m(\u001b[49m\u001b[38;5;28;43mself\u001b[39;49m\u001b[43m,\u001b[49m\u001b[43m \u001b[49m\u001b[38;5;241;43m*\u001b[39;49m\u001b[43margs\u001b[49m\u001b[43m,\u001b[49m\u001b[43m \u001b[49m\u001b[38;5;241;43m*\u001b[39;49m\u001b[38;5;241;43m*\u001b[39;49m\u001b[43mkwargs\u001b[49m\u001b[43m)\u001b[49m\n",
      "File \u001b[0;32m~/anaconda3/envs/fezf2-thymus-env/lib/python3.9/site-packages/scvi/module/base/_base_module.py:309\u001b[0m, in \u001b[0;36mBaseMinifiedModeModuleClass.inference\u001b[0;34m(self, *args, **kwargs)\u001b[0m\n\u001b[1;32m    307\u001b[0m     \u001b[38;5;28;01mreturn\u001b[39;00m \u001b[38;5;28mself\u001b[39m\u001b[38;5;241m.\u001b[39m_cached_inference(\u001b[38;5;241m*\u001b[39margs, \u001b[38;5;241m*\u001b[39m\u001b[38;5;241m*\u001b[39mkwargs)\n\u001b[1;32m    308\u001b[0m \u001b[38;5;28;01melse\u001b[39;00m:\n\u001b[0;32m--> 309\u001b[0m     \u001b[38;5;28;01mreturn\u001b[39;00m \u001b[38;5;28;43mself\u001b[39;49m\u001b[38;5;241;43m.\u001b[39;49m\u001b[43m_regular_inference\u001b[49m\u001b[43m(\u001b[49m\u001b[38;5;241;43m*\u001b[39;49m\u001b[43margs\u001b[49m\u001b[43m,\u001b[49m\u001b[43m \u001b[49m\u001b[38;5;241;43m*\u001b[39;49m\u001b[38;5;241;43m*\u001b[39;49m\u001b[43mkwargs\u001b[49m\u001b[43m)\u001b[49m\n",
      "File \u001b[0;32m~/anaconda3/envs/fezf2-thymus-env/lib/python3.9/site-packages/scvi/module/base/_decorators.py:41\u001b[0m, in \u001b[0;36mauto_move_data.<locals>.auto_transfer_args\u001b[0;34m(self, *args, **kwargs)\u001b[0m\n\u001b[1;32m     39\u001b[0m args \u001b[38;5;241m=\u001b[39m _move_data_to_device(args, device)\n\u001b[1;32m     40\u001b[0m kwargs \u001b[38;5;241m=\u001b[39m _move_data_to_device(kwargs, device)\n\u001b[0;32m---> 41\u001b[0m \u001b[38;5;28;01mreturn\u001b[39;00m \u001b[43mfn\u001b[49m\u001b[43m(\u001b[49m\u001b[38;5;28;43mself\u001b[39;49m\u001b[43m,\u001b[49m\u001b[43m \u001b[49m\u001b[38;5;241;43m*\u001b[39;49m\u001b[43margs\u001b[49m\u001b[43m,\u001b[49m\u001b[43m \u001b[49m\u001b[38;5;241;43m*\u001b[39;49m\u001b[38;5;241;43m*\u001b[39;49m\u001b[43mkwargs\u001b[49m\u001b[43m)\u001b[49m\n",
      "File \u001b[0;32m~/anaconda3/envs/fezf2-thymus-env/lib/python3.9/site-packages/scvi/module/_vae.py:336\u001b[0m, in \u001b[0;36mVAE._regular_inference\u001b[0;34m(self, x, batch_index, cont_covs, cat_covs, n_samples)\u001b[0m\n\u001b[1;32m    334\u001b[0m \u001b[38;5;28;01melse\u001b[39;00m:\n\u001b[1;32m    335\u001b[0m     categorical_input \u001b[38;5;241m=\u001b[39m ()\n\u001b[0;32m--> 336\u001b[0m qz, z \u001b[38;5;241m=\u001b[39m \u001b[38;5;28;43mself\u001b[39;49m\u001b[38;5;241;43m.\u001b[39;49m\u001b[43mz_encoder\u001b[49m\u001b[43m(\u001b[49m\u001b[43mencoder_input\u001b[49m\u001b[43m,\u001b[49m\u001b[43m \u001b[49m\u001b[43mbatch_index\u001b[49m\u001b[43m,\u001b[49m\u001b[43m \u001b[49m\u001b[38;5;241;43m*\u001b[39;49m\u001b[43mcategorical_input\u001b[49m\u001b[43m)\u001b[49m\n\u001b[1;32m    337\u001b[0m ql \u001b[38;5;241m=\u001b[39m \u001b[38;5;28;01mNone\u001b[39;00m\n\u001b[1;32m    338\u001b[0m \u001b[38;5;28;01mif\u001b[39;00m \u001b[38;5;129;01mnot\u001b[39;00m \u001b[38;5;28mself\u001b[39m\u001b[38;5;241m.\u001b[39muse_observed_lib_size:\n",
      "File \u001b[0;32m~/anaconda3/envs/fezf2-thymus-env/lib/python3.9/site-packages/torch/nn/modules/module.py:1518\u001b[0m, in \u001b[0;36mModule._wrapped_call_impl\u001b[0;34m(self, *args, **kwargs)\u001b[0m\n\u001b[1;32m   1516\u001b[0m     \u001b[38;5;28;01mreturn\u001b[39;00m \u001b[38;5;28mself\u001b[39m\u001b[38;5;241m.\u001b[39m_compiled_call_impl(\u001b[38;5;241m*\u001b[39margs, \u001b[38;5;241m*\u001b[39m\u001b[38;5;241m*\u001b[39mkwargs)  \u001b[38;5;66;03m# type: ignore[misc]\u001b[39;00m\n\u001b[1;32m   1517\u001b[0m \u001b[38;5;28;01melse\u001b[39;00m:\n\u001b[0;32m-> 1518\u001b[0m     \u001b[38;5;28;01mreturn\u001b[39;00m \u001b[38;5;28;43mself\u001b[39;49m\u001b[38;5;241;43m.\u001b[39;49m\u001b[43m_call_impl\u001b[49m\u001b[43m(\u001b[49m\u001b[38;5;241;43m*\u001b[39;49m\u001b[43margs\u001b[49m\u001b[43m,\u001b[49m\u001b[43m \u001b[49m\u001b[38;5;241;43m*\u001b[39;49m\u001b[38;5;241;43m*\u001b[39;49m\u001b[43mkwargs\u001b[49m\u001b[43m)\u001b[49m\n",
      "File \u001b[0;32m~/anaconda3/envs/fezf2-thymus-env/lib/python3.9/site-packages/torch/nn/modules/module.py:1527\u001b[0m, in \u001b[0;36mModule._call_impl\u001b[0;34m(self, *args, **kwargs)\u001b[0m\n\u001b[1;32m   1522\u001b[0m \u001b[38;5;66;03m# If we don't have any hooks, we want to skip the rest of the logic in\u001b[39;00m\n\u001b[1;32m   1523\u001b[0m \u001b[38;5;66;03m# this function, and just call forward.\u001b[39;00m\n\u001b[1;32m   1524\u001b[0m \u001b[38;5;28;01mif\u001b[39;00m \u001b[38;5;129;01mnot\u001b[39;00m (\u001b[38;5;28mself\u001b[39m\u001b[38;5;241m.\u001b[39m_backward_hooks \u001b[38;5;129;01mor\u001b[39;00m \u001b[38;5;28mself\u001b[39m\u001b[38;5;241m.\u001b[39m_backward_pre_hooks \u001b[38;5;129;01mor\u001b[39;00m \u001b[38;5;28mself\u001b[39m\u001b[38;5;241m.\u001b[39m_forward_hooks \u001b[38;5;129;01mor\u001b[39;00m \u001b[38;5;28mself\u001b[39m\u001b[38;5;241m.\u001b[39m_forward_pre_hooks\n\u001b[1;32m   1525\u001b[0m         \u001b[38;5;129;01mor\u001b[39;00m _global_backward_pre_hooks \u001b[38;5;129;01mor\u001b[39;00m _global_backward_hooks\n\u001b[1;32m   1526\u001b[0m         \u001b[38;5;129;01mor\u001b[39;00m _global_forward_hooks \u001b[38;5;129;01mor\u001b[39;00m _global_forward_pre_hooks):\n\u001b[0;32m-> 1527\u001b[0m     \u001b[38;5;28;01mreturn\u001b[39;00m \u001b[43mforward_call\u001b[49m\u001b[43m(\u001b[49m\u001b[38;5;241;43m*\u001b[39;49m\u001b[43margs\u001b[49m\u001b[43m,\u001b[49m\u001b[43m \u001b[49m\u001b[38;5;241;43m*\u001b[39;49m\u001b[38;5;241;43m*\u001b[39;49m\u001b[43mkwargs\u001b[49m\u001b[43m)\u001b[49m\n\u001b[1;32m   1529\u001b[0m \u001b[38;5;28;01mtry\u001b[39;00m:\n\u001b[1;32m   1530\u001b[0m     result \u001b[38;5;241m=\u001b[39m \u001b[38;5;28;01mNone\u001b[39;00m\n",
      "File \u001b[0;32m~/anaconda3/envs/fezf2-thymus-env/lib/python3.9/site-packages/scvi/nn/_base_components.py:288\u001b[0m, in \u001b[0;36mEncoder.forward\u001b[0;34m(self, x, *cat_list)\u001b[0m\n\u001b[1;32m    286\u001b[0m q \u001b[38;5;241m=\u001b[39m \u001b[38;5;28mself\u001b[39m\u001b[38;5;241m.\u001b[39mencoder(x, \u001b[38;5;241m*\u001b[39mcat_list)\n\u001b[1;32m    287\u001b[0m q_m \u001b[38;5;241m=\u001b[39m \u001b[38;5;28mself\u001b[39m\u001b[38;5;241m.\u001b[39mmean_encoder(q)\n\u001b[0;32m--> 288\u001b[0m q_v \u001b[38;5;241m=\u001b[39m \u001b[38;5;28mself\u001b[39m\u001b[38;5;241m.\u001b[39mvar_activation(\u001b[38;5;28;43mself\u001b[39;49m\u001b[38;5;241;43m.\u001b[39;49m\u001b[43mvar_encoder\u001b[49m\u001b[43m(\u001b[49m\u001b[43mq\u001b[49m\u001b[43m)\u001b[49m) \u001b[38;5;241m+\u001b[39m \u001b[38;5;28mself\u001b[39m\u001b[38;5;241m.\u001b[39mvar_eps\n\u001b[1;32m    289\u001b[0m dist \u001b[38;5;241m=\u001b[39m Normal(q_m, q_v\u001b[38;5;241m.\u001b[39msqrt())\n\u001b[1;32m    290\u001b[0m latent \u001b[38;5;241m=\u001b[39m \u001b[38;5;28mself\u001b[39m\u001b[38;5;241m.\u001b[39mz_transformation(dist\u001b[38;5;241m.\u001b[39mrsample())\n",
      "File \u001b[0;32m~/anaconda3/envs/fezf2-thymus-env/lib/python3.9/site-packages/torch/nn/modules/module.py:1518\u001b[0m, in \u001b[0;36mModule._wrapped_call_impl\u001b[0;34m(self, *args, **kwargs)\u001b[0m\n\u001b[1;32m   1516\u001b[0m     \u001b[38;5;28;01mreturn\u001b[39;00m \u001b[38;5;28mself\u001b[39m\u001b[38;5;241m.\u001b[39m_compiled_call_impl(\u001b[38;5;241m*\u001b[39margs, \u001b[38;5;241m*\u001b[39m\u001b[38;5;241m*\u001b[39mkwargs)  \u001b[38;5;66;03m# type: ignore[misc]\u001b[39;00m\n\u001b[1;32m   1517\u001b[0m \u001b[38;5;28;01melse\u001b[39;00m:\n\u001b[0;32m-> 1518\u001b[0m     \u001b[38;5;28;01mreturn\u001b[39;00m \u001b[38;5;28;43mself\u001b[39;49m\u001b[38;5;241;43m.\u001b[39;49m\u001b[43m_call_impl\u001b[49m\u001b[43m(\u001b[49m\u001b[38;5;241;43m*\u001b[39;49m\u001b[43margs\u001b[49m\u001b[43m,\u001b[49m\u001b[43m \u001b[49m\u001b[38;5;241;43m*\u001b[39;49m\u001b[38;5;241;43m*\u001b[39;49m\u001b[43mkwargs\u001b[49m\u001b[43m)\u001b[49m\n",
      "File \u001b[0;32m~/anaconda3/envs/fezf2-thymus-env/lib/python3.9/site-packages/torch/nn/modules/module.py:1527\u001b[0m, in \u001b[0;36mModule._call_impl\u001b[0;34m(self, *args, **kwargs)\u001b[0m\n\u001b[1;32m   1522\u001b[0m \u001b[38;5;66;03m# If we don't have any hooks, we want to skip the rest of the logic in\u001b[39;00m\n\u001b[1;32m   1523\u001b[0m \u001b[38;5;66;03m# this function, and just call forward.\u001b[39;00m\n\u001b[1;32m   1524\u001b[0m \u001b[38;5;28;01mif\u001b[39;00m \u001b[38;5;129;01mnot\u001b[39;00m (\u001b[38;5;28mself\u001b[39m\u001b[38;5;241m.\u001b[39m_backward_hooks \u001b[38;5;129;01mor\u001b[39;00m \u001b[38;5;28mself\u001b[39m\u001b[38;5;241m.\u001b[39m_backward_pre_hooks \u001b[38;5;129;01mor\u001b[39;00m \u001b[38;5;28mself\u001b[39m\u001b[38;5;241m.\u001b[39m_forward_hooks \u001b[38;5;129;01mor\u001b[39;00m \u001b[38;5;28mself\u001b[39m\u001b[38;5;241m.\u001b[39m_forward_pre_hooks\n\u001b[1;32m   1525\u001b[0m         \u001b[38;5;129;01mor\u001b[39;00m _global_backward_pre_hooks \u001b[38;5;129;01mor\u001b[39;00m _global_backward_hooks\n\u001b[1;32m   1526\u001b[0m         \u001b[38;5;129;01mor\u001b[39;00m _global_forward_hooks \u001b[38;5;129;01mor\u001b[39;00m _global_forward_pre_hooks):\n\u001b[0;32m-> 1527\u001b[0m     \u001b[38;5;28;01mreturn\u001b[39;00m \u001b[43mforward_call\u001b[49m\u001b[43m(\u001b[49m\u001b[38;5;241;43m*\u001b[39;49m\u001b[43margs\u001b[49m\u001b[43m,\u001b[49m\u001b[43m \u001b[49m\u001b[38;5;241;43m*\u001b[39;49m\u001b[38;5;241;43m*\u001b[39;49m\u001b[43mkwargs\u001b[49m\u001b[43m)\u001b[49m\n\u001b[1;32m   1529\u001b[0m \u001b[38;5;28;01mtry\u001b[39;00m:\n\u001b[1;32m   1530\u001b[0m     result \u001b[38;5;241m=\u001b[39m \u001b[38;5;28;01mNone\u001b[39;00m\n",
      "File \u001b[0;32m~/anaconda3/envs/fezf2-thymus-env/lib/python3.9/site-packages/torch/nn/modules/linear.py:114\u001b[0m, in \u001b[0;36mLinear.forward\u001b[0;34m(self, input)\u001b[0m\n\u001b[1;32m    113\u001b[0m \u001b[38;5;28;01mdef\u001b[39;00m \u001b[38;5;21mforward\u001b[39m(\u001b[38;5;28mself\u001b[39m, \u001b[38;5;28minput\u001b[39m: Tensor) \u001b[38;5;241m-\u001b[39m\u001b[38;5;241m>\u001b[39m Tensor:\n\u001b[0;32m--> 114\u001b[0m     \u001b[38;5;28;01mreturn\u001b[39;00m \u001b[43mF\u001b[49m\u001b[38;5;241;43m.\u001b[39;49m\u001b[43mlinear\u001b[49m\u001b[43m(\u001b[49m\u001b[38;5;28;43minput\u001b[39;49m\u001b[43m,\u001b[49m\u001b[43m \u001b[49m\u001b[38;5;28;43mself\u001b[39;49m\u001b[38;5;241;43m.\u001b[39;49m\u001b[43mweight\u001b[49m\u001b[43m,\u001b[49m\u001b[43m \u001b[49m\u001b[38;5;28;43mself\u001b[39;49m\u001b[38;5;241;43m.\u001b[39;49m\u001b[43mbias\u001b[49m\u001b[43m)\u001b[49m\n",
      "\u001b[0;31mKeyboardInterrupt\u001b[0m: "
     ]
    }
   ],
   "source": [
    "# get scVI latent space and normalized expression\n",
    "adata.obsm[\"X_scVI\"] = model.get_latent_representation()\n",
    "adata.layers[\"scVI_normalized\"] = model.get_normalized_expression(library_size=1e4)"
   ]
  },
  {
   "cell_type": "code",
   "execution_count": null,
   "id": "2b06346d-5451-4c68-b91c-aae8e90db518",
   "metadata": {},
   "outputs": [],
   "source": [
    "# Dimensionality reduction\n",
    "sc.pp.neighbors(adata, use_rep=\"X_scVI\")\n",
    "sc.tl.umap(adata)"
   ]
  },
  {
   "cell_type": "code",
   "execution_count": null,
   "id": "e463b011-a9f6-476b-b2e9-42f33abf2396",
   "metadata": {},
   "outputs": [],
   "source": [
    "sc.pl.umap(\n",
    "    adata,\n",
    "    color=[\"batch\", \"cell_type\"],\n",
    "    s=10,\n",
    "    add_outline=True,\n",
    ")"
   ]
  },
  {
   "cell_type": "markdown",
   "id": "90715cfc-3141-4d86-862f-1071668b1765",
   "metadata": {},
   "source": [
    "# Label transfer"
   ]
  },
  {
   "cell_type": "code",
   "execution_count": null,
   "id": "decd01de-67f6-4c37-9b7a-78ad523b1287",
   "metadata": {},
   "outputs": [],
   "source": [
    "train_data = adata[adata.obs.batch.str.contains(\"Runx\")].copy()\n",
    "label_data = adata[adata.obs.batch.str.contains(\"Aire\")].copy()"
   ]
  },
  {
   "cell_type": "code",
   "execution_count": null,
   "id": "e4e98957-19dc-46d3-892f-e9200e9c6824",
   "metadata": {},
   "outputs": [],
   "source": [
    "# Feature selection\n",
    "model_fs = celltypist.train(\n",
    "    train_data,\n",
    "    'cell_type',\n",
    "    n_jobs = 10,\n",
    "    max_iter = 5,\n",
    "    use_SGD = True\n",
    ")\n",
    "gene_index = np.argpartition(np.abs(model_fs.classifier.coef_), -300, axis = 1)[:, -300:]\n",
    "gene_index = np.unique(gene_index)\n",
    "print(f\"Number of genes selected: {len(gene_index)}\")"
   ]
  },
  {
   "cell_type": "code",
   "execution_count": null,
   "id": "9a05457e-a14f-4d6f-b076-d3fbf8290420",
   "metadata": {},
   "outputs": [],
   "source": [
    "# Train celltypist model\n",
    "celltypist_model = celltypist.train(\n",
    "    train_data[:, gene_index],\n",
    "    'cell_type',\n",
    "    n_jobs = 10,\n",
    "    max_iter = 1000,\n",
    "    check_expression = False,\n",
    ")"
   ]
  },
  {
   "cell_type": "code",
   "execution_count": null,
   "id": "71dccc8b-0865-449a-bc26-47c84b39659b",
   "metadata": {},
   "outputs": [],
   "source": [
    "# Get celltypist predictions\n",
    "predictions = celltypist.annotate(\n",
    "    label_data,\n",
    "    model=celltypist_model,\n",
    "    majority_voting=True\n",
    ")"
   ]
  },
  {
   "cell_type": "code",
   "execution_count": null,
   "id": "83a28895-e3d9-4be5-96a0-8f8191346bf2",
   "metadata": {},
   "outputs": [],
   "source": [
    "label_data = predictions.to_adata()\n",
    "label_data.obs[\"cell_type\"] = label_data.obs.majority_voting"
   ]
  },
  {
   "cell_type": "code",
   "execution_count": null,
   "id": "aa8c6d64-981f-43f3-a5a6-24b8c491431f",
   "metadata": {},
   "outputs": [],
   "source": [
    "sc.pl.umap(\n",
    "    label_data,\n",
    "    color=[\"majority_voting\"],\n",
    "    s=10,\n",
    "    add_outline=True,\n",
    ")"
   ]
  },
  {
   "cell_type": "code",
   "execution_count": null,
   "id": "5eed674f-35b1-4b6c-97ac-5cfcf1dd94dd",
   "metadata": {},
   "outputs": [],
   "source": [
    "adata = ad.concat([train_data, label_data])"
   ]
  },
  {
   "cell_type": "code",
   "execution_count": null,
   "id": "0a45fae6-e890-4c4d-9fd9-10c17940f12c",
   "metadata": {},
   "outputs": [],
   "source": [
    "adata.obs.cell_type = adata.obs.cell_type.cat.reorder_categories([\n",
    "    'Aire', 'AT2', 'Ccl21a', 'Ciliated', 'Goblet', 'Immature',\n",
    "    'Keratinocyte', 'Late Aire', 'M Cell', 'Neuroendocrine',\n",
    "    'TAC-TEC', 'Thymocyte', 'Tuft']\n",
    ")"
   ]
  },
  {
   "cell_type": "code",
   "execution_count": null,
   "id": "01cfd6db-7abb-40ac-8766-2fcc7bd80bef",
   "metadata": {},
   "outputs": [],
   "source": [
    "sc.settings.figdir = \"../analysis\"\n",
    "sc.pl.umap(\n",
    "    adata,\n",
    "    color=[\"cell_type\"],\n",
    "    s=10,\n",
    "    add_outline=True,\n",
    "    save=\"_integrated_cell_types.pdf\",\n",
    ")"
   ]
  },
  {
   "cell_type": "markdown",
   "id": "ed80b920-74f0-4b25-a64d-3cf2641cf4cb",
   "metadata": {},
   "source": [
    "# AT2 abundance"
   ]
  },
  {
   "cell_type": "code",
   "execution_count": null,
   "id": "fd0a7bbc-5ef5-4fad-9afd-654119fecb39",
   "metadata": {},
   "outputs": [],
   "source": [
    "sc.settings.figdir = \"../analysis\"\n",
    "sc.pl.umap(\n",
    "    adata,\n",
    "    color=[\"genotype\"],\n",
    "    groups=\"Runx1_WT\",\n",
    "    s=10,\n",
    "    add_outline=True,\n",
    "    save=\"_Runx1_WT.pdf\",\n",
    ")\n",
    "sc.pl.umap(\n",
    "    adata,\n",
    "    color=[\"genotype\"],\n",
    "    groups=\"Runx1_KO\",\n",
    "    s=10,\n",
    "    add_outline=True,\n",
    "    save=\"_Runx1_KO.pdf\",\n",
    ")\n",
    "sc.pl.umap(\n",
    "    adata,\n",
    "    color=[\"genotype\"],\n",
    "    groups=\"Aire_WT\",\n",
    "    s=10,\n",
    "    add_outline=True,\n",
    "    save=\"_Aire_WT.pdf\",\n",
    ")\n",
    "sc.pl.umap(\n",
    "    adata,\n",
    "    color=[\"genotype\"],\n",
    "    groups=\"Aire_KO\",\n",
    "    s=10,\n",
    "    add_outline=True,\n",
    "    save=\"_Aire_KO.pdf\",\n",
    ")"
   ]
  },
  {
   "cell_type": "code",
   "execution_count": null,
   "id": "5b792467-5fc8-4722-b9ba-9f8ae5f18c7d",
   "metadata": {},
   "outputs": [],
   "source": [
    "sc.settings.figdir = \"../analysis\"\n",
    "sc.pl.umap(\n",
    "    adata[adata.obs.genotype==\"Runx1_WT\"],\n",
    "    color=[\"cell_type\"],\n",
    "    s=10,\n",
    "    add_outline=True,\n",
    "    save=\"_Runx1_WT_cell_types.pdf\",\n",
    ")"
   ]
  },
  {
   "cell_type": "code",
   "execution_count": null,
   "id": "eb5b6638-e4f2-47ed-8b43-472580b61dcd",
   "metadata": {},
   "outputs": [],
   "source": [
    "abundance_data = pd.DataFrame()\n",
    "for genotype in adata.obs.genotype.unique():\n",
    "    genotype_data = adata[adata.obs.genotype == genotype]\n",
    "    cell_type_abundances = genotype_data.obs.cell_type.value_counts()\n",
    "    cell_type_abundances = cell_type_abundances/genotype_data.shape[0]*100\n",
    "    cell_type_abundances = pd.DataFrame(cell_type_abundances)\n",
    "    cell_type_abundances = cell_type_abundances.reset_index()\n",
    "    cell_type_abundances.columns = [\"cell_type\", \"abundance\"]\n",
    "    cell_type_abundances[\"genotype\"] = genotype\n",
    "    abundance_data = pd.concat([abundance_data, cell_type_abundances], ignore_index=True)"
   ]
  },
  {
   "cell_type": "code",
   "execution_count": null,
   "id": "7af17d1c-72c6-4696-aaa1-d94801804ba1",
   "metadata": {},
   "outputs": [],
   "source": [
    "abundance_data = abundance_data[abundance_data.cell_type == \"AT2\"]\n",
    "abundance_data = pd.concat([abundance_data, pd.DataFrame([\"AT2\", 0, \"Aire_KO\"], index=[\"cell_type\", \"abundance\", \"genotype\"]).T])\n",
    "abundance_data.genotype = abundance_data.genotype.astype(\"category\")"
   ]
  },
  {
   "cell_type": "code",
   "execution_count": null,
   "id": "ea635921-db39-4245-bbd9-2067ddf09899",
   "metadata": {},
   "outputs": [],
   "source": [
    "abundance_data.genotype = abundance_data.genotype.cat.reorder_categories([\"Runx1_WT\", \"Runx1_KO\", \"Aire_WT\", \"Aire_KO\"])"
   ]
  },
  {
   "cell_type": "code",
   "execution_count": null,
   "id": "c381107e-ecfa-46e2-80a7-2f64d06f38fd",
   "metadata": {},
   "outputs": [],
   "source": [
    "fig, (ax1,ax2) = plt.subplots(2,1,sharex=True, figsize=(4,4))\n",
    "ax1.spines['bottom'].set_visible(False)\n",
    "ax1.tick_params(axis='x',which='both',bottom=False)\n",
    "ax2.spines['top'].set_visible(False)\n",
    "\n",
    "bs = 500\n",
    "ts = 1000\n",
    "\n",
    "ax2.set_ylim(0,0.25)\n",
    "ax1.set_ylim(8,14)\n",
    "ax1.set_yticks(np.arange(8,14,2))\n",
    "\n",
    "bars1 = ax1.bar(abundance_data.genotype, abundance_data.abundance, color=[\"tab:red\", \"tab:green\", \"tab:orange\", \"tab:blue\"])\n",
    "bars2 = ax2.bar(abundance_data.genotype, abundance_data.abundance, color=[\"tab:red\", \"tab:green\", \"tab:orange\", \"tab:blue\"])\n",
    "\n",
    "for tick in ax2.get_xticklabels():\n",
    "    tick.set_rotation(0)\n",
    "d = .015  \n",
    "kwargs = dict(transform=ax1.transAxes, color='k', clip_on=False)\n",
    "ax1.plot((-d, +d), (-d, +d), **kwargs)      \n",
    "ax1.plot((1 - d, 1 + d), (-d, +d), **kwargs)\n",
    "kwargs.update(transform=ax2.transAxes)  \n",
    "ax2.plot((-d, +d), (1 - d, 1 + d), **kwargs)  \n",
    "ax2.plot((1 - d, 1 + d), (1 - d, 1 + d), **kwargs)\n",
    "\n",
    "plt.savefig(\"../analysis/AT2_abundance.pdf\")\n",
    "plt.show()"
   ]
  },
  {
   "cell_type": "code",
   "execution_count": null,
   "id": "581112eb-58f4-4a9c-bb5d-81be507cc5ae",
   "metadata": {},
   "outputs": [],
   "source": [
    "fig = plt.figure(figsize=(4, 5))\n",
    "bax = brokenaxes(ylims=((0, 0.15), (8, 15)), hspace=0.5)\n",
    "sns.barplot(\n",
    "    abundance_data[abundance_data.genotype.str.contains(\"Runx\")],\n",
    "    x=\"genotype\",\n",
    "    y=\"abundance\"\n",
    ")\n",
    "bax.axs[0].set_yticks([0, 0.25, 0.05])  # Lower part with finer ticks\n",
    "bax.axs[1].set_yticks([8, 15, 2])  # Upper part with coarser ticks\n",
    "plt.show()"
   ]
  },
  {
   "cell_type": "code",
   "execution_count": null,
   "id": "ce07b6bb-7c87-427c-96b7-3bc36b3fd6b4",
   "metadata": {},
   "outputs": [],
   "source": [
    "for genotype in adata.obs.genotype.unique():\n",
    "    print(genotype)\n",
    "    print(adata[(adata.obs.genotype == genotype) & (adata.obs.cell_type == \"AT2\")])"
   ]
  },
  {
   "cell_type": "markdown",
   "id": "bcc241e4-902d-46df-8ed9-6ebd88e3133c",
   "metadata": {},
   "source": [
    "# Save data"
   ]
  },
  {
   "cell_type": "code",
   "execution_count": null,
   "id": "4b838915-395a-4cc6-a4b2-ec56f1d2aa79",
   "metadata": {},
   "outputs": [],
   "source": [
    "# Check save paths\n",
    "if not os.path.isdir(f\"{processedDataPath}/Runx1_KO/scVI_models\"):\n",
    "    os.makedirs(f\"{processedDataPath}/Runx1_KO/scVI_models\")\n",
    "    \n",
    "if not os.path.isdir(f\"{processedDataPath}/Runx1_KO/h5ad_files\"):\n",
    "    os.makedirs(f\"{processedDataPath}/Runx1_KO/h5ad_files\")\n",
    "    \n",
    "if os.path.isdir(f\"{processedDataPath}/Runx1_KO/scVI_models/integrated\"):\n",
    "    shutil.rmtree(f\"{processedDataPath}/Runx1_KO/scVI_models/integrated\")\n",
    "    \n",
    "model.save(f\"{processedDataPath}/Runx1_KO/scVI_models/integrated\")\n",
    "celltypist_model.write(f\"{processedDataPath}/Runx1_KO/Runx1_thymus_celltypist_model.pkl\")\n",
    "adata.write(f\"{processedDataPath}/Runx1_KO/h5ad_files/integrated.h5ad\")"
   ]
  }
 ],
 "metadata": {
  "kernelspec": {
   "display_name": "fezf2-thymus-env",
   "language": "python",
   "name": "fezf2-thymus-env"
  },
  "language_info": {
   "codemirror_mode": {
    "name": "ipython",
    "version": 3
   },
   "file_extension": ".py",
   "mimetype": "text/x-python",
   "name": "python",
   "nbconvert_exporter": "python",
   "pygments_lexer": "ipython3",
   "version": "3.9.18"
  }
 },
 "nbformat": 4,
 "nbformat_minor": 5
}
